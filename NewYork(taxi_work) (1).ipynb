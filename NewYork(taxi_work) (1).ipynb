{
  "cells": [
    {
      "cell_type": "code",
      "source": [
        "# importing relevant liberies\n",
        "import pandas as pd\n",
        "import numpy as np\n",
        "import matplotlib.pyplot as plt\n",
        "import seaborn as sns"
      ],
      "metadata": {
        "id": "UcD3uT6yke5q"
      },
      "id": "UcD3uT6yke5q",
      "execution_count": 5,
      "outputs": []
    },
    {
      "cell_type": "code",
      "source": [
        "#Uploading of dataset\n",
        "df=pd.read_csv('/content/taxis.csv')"
      ],
      "metadata": {
        "id": "OUEJHF6YkrAM"
      },
      "id": "OUEJHF6YkrAM",
      "execution_count": 6,
      "outputs": []
    },
    {
      "cell_type": "code",
      "execution_count": 7,
      "id": "208697f5-14a6-4246-9241-1608379c52a5",
      "metadata": {
        "id": "208697f5-14a6-4246-9241-1608379c52a5",
        "colab": {
          "base_uri": "https://localhost:8080/",
          "height": 206
        },
        "outputId": "0d0d2feb-ce88-4e12-f73c-dbf0acc96c5e"
      },
      "outputs": [
        {
          "output_type": "execute_result",
          "data": {
            "text/plain": [
              "            pickup          dropoff  passengers  distance  fare   tip  tolls  \\\n",
              "0  3/23/2019 20:21  3/23/2019 20:27           1      1.60   7.0  2.15    0.0   \n",
              "1   3/4/2019 16:11   3/4/2019 16:19           1      0.79   5.0  0.00    0.0   \n",
              "2  3/27/2019 17:53  3/27/2019 18:00           1      1.37   7.5  2.36    0.0   \n",
              "3   3/10/2019 1:23   3/10/2019 1:49           1      7.70  27.0  6.15    0.0   \n",
              "4  3/30/2019 13:27  3/30/2019 13:37           3      2.16   9.0  1.10    0.0   \n",
              "\n",
              "   total   color      payment            pickup_zone           dropoff_zone  \\\n",
              "0  12.95  yellow  credit card        Lenox Hill West    UN/Turtle Bay South   \n",
              "1   9.30  yellow         cash  Upper West Side South  Upper West Side South   \n",
              "2  14.16  yellow  credit card          Alphabet City           West Village   \n",
              "3  36.95  yellow  credit card              Hudson Sq         Yorkville West   \n",
              "4  13.40  yellow  credit card           Midtown East         Yorkville West   \n",
              "\n",
              "  pickup_borough dropoff_borough  \n",
              "0      Manhattan       Manhattan  \n",
              "1      Manhattan       Manhattan  \n",
              "2      Manhattan       Manhattan  \n",
              "3      Manhattan       Manhattan  \n",
              "4      Manhattan       Manhattan  "
            ],
            "text/html": [
              "\n",
              "  <div id=\"df-a0bdae37-dd77-49ae-b918-f7cb7d1e49fb\" class=\"colab-df-container\">\n",
              "    <div>\n",
              "<style scoped>\n",
              "    .dataframe tbody tr th:only-of-type {\n",
              "        vertical-align: middle;\n",
              "    }\n",
              "\n",
              "    .dataframe tbody tr th {\n",
              "        vertical-align: top;\n",
              "    }\n",
              "\n",
              "    .dataframe thead th {\n",
              "        text-align: right;\n",
              "    }\n",
              "</style>\n",
              "<table border=\"1\" class=\"dataframe\">\n",
              "  <thead>\n",
              "    <tr style=\"text-align: right;\">\n",
              "      <th></th>\n",
              "      <th>pickup</th>\n",
              "      <th>dropoff</th>\n",
              "      <th>passengers</th>\n",
              "      <th>distance</th>\n",
              "      <th>fare</th>\n",
              "      <th>tip</th>\n",
              "      <th>tolls</th>\n",
              "      <th>total</th>\n",
              "      <th>color</th>\n",
              "      <th>payment</th>\n",
              "      <th>pickup_zone</th>\n",
              "      <th>dropoff_zone</th>\n",
              "      <th>pickup_borough</th>\n",
              "      <th>dropoff_borough</th>\n",
              "    </tr>\n",
              "  </thead>\n",
              "  <tbody>\n",
              "    <tr>\n",
              "      <th>0</th>\n",
              "      <td>3/23/2019 20:21</td>\n",
              "      <td>3/23/2019 20:27</td>\n",
              "      <td>1</td>\n",
              "      <td>1.60</td>\n",
              "      <td>7.0</td>\n",
              "      <td>2.15</td>\n",
              "      <td>0.0</td>\n",
              "      <td>12.95</td>\n",
              "      <td>yellow</td>\n",
              "      <td>credit card</td>\n",
              "      <td>Lenox Hill West</td>\n",
              "      <td>UN/Turtle Bay South</td>\n",
              "      <td>Manhattan</td>\n",
              "      <td>Manhattan</td>\n",
              "    </tr>\n",
              "    <tr>\n",
              "      <th>1</th>\n",
              "      <td>3/4/2019 16:11</td>\n",
              "      <td>3/4/2019 16:19</td>\n",
              "      <td>1</td>\n",
              "      <td>0.79</td>\n",
              "      <td>5.0</td>\n",
              "      <td>0.00</td>\n",
              "      <td>0.0</td>\n",
              "      <td>9.30</td>\n",
              "      <td>yellow</td>\n",
              "      <td>cash</td>\n",
              "      <td>Upper West Side South</td>\n",
              "      <td>Upper West Side South</td>\n",
              "      <td>Manhattan</td>\n",
              "      <td>Manhattan</td>\n",
              "    </tr>\n",
              "    <tr>\n",
              "      <th>2</th>\n",
              "      <td>3/27/2019 17:53</td>\n",
              "      <td>3/27/2019 18:00</td>\n",
              "      <td>1</td>\n",
              "      <td>1.37</td>\n",
              "      <td>7.5</td>\n",
              "      <td>2.36</td>\n",
              "      <td>0.0</td>\n",
              "      <td>14.16</td>\n",
              "      <td>yellow</td>\n",
              "      <td>credit card</td>\n",
              "      <td>Alphabet City</td>\n",
              "      <td>West Village</td>\n",
              "      <td>Manhattan</td>\n",
              "      <td>Manhattan</td>\n",
              "    </tr>\n",
              "    <tr>\n",
              "      <th>3</th>\n",
              "      <td>3/10/2019 1:23</td>\n",
              "      <td>3/10/2019 1:49</td>\n",
              "      <td>1</td>\n",
              "      <td>7.70</td>\n",
              "      <td>27.0</td>\n",
              "      <td>6.15</td>\n",
              "      <td>0.0</td>\n",
              "      <td>36.95</td>\n",
              "      <td>yellow</td>\n",
              "      <td>credit card</td>\n",
              "      <td>Hudson Sq</td>\n",
              "      <td>Yorkville West</td>\n",
              "      <td>Manhattan</td>\n",
              "      <td>Manhattan</td>\n",
              "    </tr>\n",
              "    <tr>\n",
              "      <th>4</th>\n",
              "      <td>3/30/2019 13:27</td>\n",
              "      <td>3/30/2019 13:37</td>\n",
              "      <td>3</td>\n",
              "      <td>2.16</td>\n",
              "      <td>9.0</td>\n",
              "      <td>1.10</td>\n",
              "      <td>0.0</td>\n",
              "      <td>13.40</td>\n",
              "      <td>yellow</td>\n",
              "      <td>credit card</td>\n",
              "      <td>Midtown East</td>\n",
              "      <td>Yorkville West</td>\n",
              "      <td>Manhattan</td>\n",
              "      <td>Manhattan</td>\n",
              "    </tr>\n",
              "  </tbody>\n",
              "</table>\n",
              "</div>\n",
              "    <div class=\"colab-df-buttons\">\n",
              "\n",
              "  <div class=\"colab-df-container\">\n",
              "    <button class=\"colab-df-convert\" onclick=\"convertToInteractive('df-a0bdae37-dd77-49ae-b918-f7cb7d1e49fb')\"\n",
              "            title=\"Convert this dataframe to an interactive table.\"\n",
              "            style=\"display:none;\">\n",
              "\n",
              "  <svg xmlns=\"http://www.w3.org/2000/svg\" height=\"24px\" viewBox=\"0 -960 960 960\">\n",
              "    <path d=\"M120-120v-720h720v720H120Zm60-500h600v-160H180v160Zm220 220h160v-160H400v160Zm0 220h160v-160H400v160ZM180-400h160v-160H180v160Zm440 0h160v-160H620v160ZM180-180h160v-160H180v160Zm440 0h160v-160H620v160Z\"/>\n",
              "  </svg>\n",
              "    </button>\n",
              "\n",
              "  <style>\n",
              "    .colab-df-container {\n",
              "      display:flex;\n",
              "      gap: 12px;\n",
              "    }\n",
              "\n",
              "    .colab-df-convert {\n",
              "      background-color: #E8F0FE;\n",
              "      border: none;\n",
              "      border-radius: 50%;\n",
              "      cursor: pointer;\n",
              "      display: none;\n",
              "      fill: #1967D2;\n",
              "      height: 32px;\n",
              "      padding: 0 0 0 0;\n",
              "      width: 32px;\n",
              "    }\n",
              "\n",
              "    .colab-df-convert:hover {\n",
              "      background-color: #E2EBFA;\n",
              "      box-shadow: 0px 1px 2px rgba(60, 64, 67, 0.3), 0px 1px 3px 1px rgba(60, 64, 67, 0.15);\n",
              "      fill: #174EA6;\n",
              "    }\n",
              "\n",
              "    .colab-df-buttons div {\n",
              "      margin-bottom: 4px;\n",
              "    }\n",
              "\n",
              "    [theme=dark] .colab-df-convert {\n",
              "      background-color: #3B4455;\n",
              "      fill: #D2E3FC;\n",
              "    }\n",
              "\n",
              "    [theme=dark] .colab-df-convert:hover {\n",
              "      background-color: #434B5C;\n",
              "      box-shadow: 0px 1px 3px 1px rgba(0, 0, 0, 0.15);\n",
              "      filter: drop-shadow(0px 1px 2px rgba(0, 0, 0, 0.3));\n",
              "      fill: #FFFFFF;\n",
              "    }\n",
              "  </style>\n",
              "\n",
              "    <script>\n",
              "      const buttonEl =\n",
              "        document.querySelector('#df-a0bdae37-dd77-49ae-b918-f7cb7d1e49fb button.colab-df-convert');\n",
              "      buttonEl.style.display =\n",
              "        google.colab.kernel.accessAllowed ? 'block' : 'none';\n",
              "\n",
              "      async function convertToInteractive(key) {\n",
              "        const element = document.querySelector('#df-a0bdae37-dd77-49ae-b918-f7cb7d1e49fb');\n",
              "        const dataTable =\n",
              "          await google.colab.kernel.invokeFunction('convertToInteractive',\n",
              "                                                    [key], {});\n",
              "        if (!dataTable) return;\n",
              "\n",
              "        const docLinkHtml = 'Like what you see? Visit the ' +\n",
              "          '<a target=\"_blank\" href=https://colab.research.google.com/notebooks/data_table.ipynb>data table notebook</a>'\n",
              "          + ' to learn more about interactive tables.';\n",
              "        element.innerHTML = '';\n",
              "        dataTable['output_type'] = 'display_data';\n",
              "        await google.colab.output.renderOutput(dataTable, element);\n",
              "        const docLink = document.createElement('div');\n",
              "        docLink.innerHTML = docLinkHtml;\n",
              "        element.appendChild(docLink);\n",
              "      }\n",
              "    </script>\n",
              "  </div>\n",
              "\n",
              "\n",
              "    <div id=\"df-d753c6ec-c25d-49a1-94be-f14b9d6b044f\">\n",
              "      <button class=\"colab-df-quickchart\" onclick=\"quickchart('df-d753c6ec-c25d-49a1-94be-f14b9d6b044f')\"\n",
              "                title=\"Suggest charts\"\n",
              "                style=\"display:none;\">\n",
              "\n",
              "<svg xmlns=\"http://www.w3.org/2000/svg\" height=\"24px\"viewBox=\"0 0 24 24\"\n",
              "     width=\"24px\">\n",
              "    <g>\n",
              "        <path d=\"M19 3H5c-1.1 0-2 .9-2 2v14c0 1.1.9 2 2 2h14c1.1 0 2-.9 2-2V5c0-1.1-.9-2-2-2zM9 17H7v-7h2v7zm4 0h-2V7h2v10zm4 0h-2v-4h2v4z\"/>\n",
              "    </g>\n",
              "</svg>\n",
              "      </button>\n",
              "\n",
              "<style>\n",
              "  .colab-df-quickchart {\n",
              "      --bg-color: #E8F0FE;\n",
              "      --fill-color: #1967D2;\n",
              "      --hover-bg-color: #E2EBFA;\n",
              "      --hover-fill-color: #174EA6;\n",
              "      --disabled-fill-color: #AAA;\n",
              "      --disabled-bg-color: #DDD;\n",
              "  }\n",
              "\n",
              "  [theme=dark] .colab-df-quickchart {\n",
              "      --bg-color: #3B4455;\n",
              "      --fill-color: #D2E3FC;\n",
              "      --hover-bg-color: #434B5C;\n",
              "      --hover-fill-color: #FFFFFF;\n",
              "      --disabled-bg-color: #3B4455;\n",
              "      --disabled-fill-color: #666;\n",
              "  }\n",
              "\n",
              "  .colab-df-quickchart {\n",
              "    background-color: var(--bg-color);\n",
              "    border: none;\n",
              "    border-radius: 50%;\n",
              "    cursor: pointer;\n",
              "    display: none;\n",
              "    fill: var(--fill-color);\n",
              "    height: 32px;\n",
              "    padding: 0;\n",
              "    width: 32px;\n",
              "  }\n",
              "\n",
              "  .colab-df-quickchart:hover {\n",
              "    background-color: var(--hover-bg-color);\n",
              "    box-shadow: 0 1px 2px rgba(60, 64, 67, 0.3), 0 1px 3px 1px rgba(60, 64, 67, 0.15);\n",
              "    fill: var(--button-hover-fill-color);\n",
              "  }\n",
              "\n",
              "  .colab-df-quickchart-complete:disabled,\n",
              "  .colab-df-quickchart-complete:disabled:hover {\n",
              "    background-color: var(--disabled-bg-color);\n",
              "    fill: var(--disabled-fill-color);\n",
              "    box-shadow: none;\n",
              "  }\n",
              "\n",
              "  .colab-df-spinner {\n",
              "    border: 2px solid var(--fill-color);\n",
              "    border-color: transparent;\n",
              "    border-bottom-color: var(--fill-color);\n",
              "    animation:\n",
              "      spin 1s steps(1) infinite;\n",
              "  }\n",
              "\n",
              "  @keyframes spin {\n",
              "    0% {\n",
              "      border-color: transparent;\n",
              "      border-bottom-color: var(--fill-color);\n",
              "      border-left-color: var(--fill-color);\n",
              "    }\n",
              "    20% {\n",
              "      border-color: transparent;\n",
              "      border-left-color: var(--fill-color);\n",
              "      border-top-color: var(--fill-color);\n",
              "    }\n",
              "    30% {\n",
              "      border-color: transparent;\n",
              "      border-left-color: var(--fill-color);\n",
              "      border-top-color: var(--fill-color);\n",
              "      border-right-color: var(--fill-color);\n",
              "    }\n",
              "    40% {\n",
              "      border-color: transparent;\n",
              "      border-right-color: var(--fill-color);\n",
              "      border-top-color: var(--fill-color);\n",
              "    }\n",
              "    60% {\n",
              "      border-color: transparent;\n",
              "      border-right-color: var(--fill-color);\n",
              "    }\n",
              "    80% {\n",
              "      border-color: transparent;\n",
              "      border-right-color: var(--fill-color);\n",
              "      border-bottom-color: var(--fill-color);\n",
              "    }\n",
              "    90% {\n",
              "      border-color: transparent;\n",
              "      border-bottom-color: var(--fill-color);\n",
              "    }\n",
              "  }\n",
              "</style>\n",
              "\n",
              "      <script>\n",
              "        async function quickchart(key) {\n",
              "          const quickchartButtonEl =\n",
              "            document.querySelector('#' + key + ' button');\n",
              "          quickchartButtonEl.disabled = true;  // To prevent multiple clicks.\n",
              "          quickchartButtonEl.classList.add('colab-df-spinner');\n",
              "          try {\n",
              "            const charts = await google.colab.kernel.invokeFunction(\n",
              "                'suggestCharts', [key], {});\n",
              "          } catch (error) {\n",
              "            console.error('Error during call to suggestCharts:', error);\n",
              "          }\n",
              "          quickchartButtonEl.classList.remove('colab-df-spinner');\n",
              "          quickchartButtonEl.classList.add('colab-df-quickchart-complete');\n",
              "        }\n",
              "        (() => {\n",
              "          let quickchartButtonEl =\n",
              "            document.querySelector('#df-d753c6ec-c25d-49a1-94be-f14b9d6b044f button');\n",
              "          quickchartButtonEl.style.display =\n",
              "            google.colab.kernel.accessAllowed ? 'block' : 'none';\n",
              "        })();\n",
              "      </script>\n",
              "    </div>\n",
              "\n",
              "    </div>\n",
              "  </div>\n"
            ],
            "application/vnd.google.colaboratory.intrinsic+json": {
              "type": "dataframe",
              "variable_name": "df",
              "summary": "{\n  \"name\": \"df\",\n  \"rows\": 6433,\n  \"fields\": [\n    {\n      \"column\": \"pickup\",\n      \"properties\": {\n        \"dtype\": \"object\",\n        \"num_unique_values\": 5899,\n        \"samples\": [\n          \"3/3/2019 9:17\",\n          \"3/25/2019 13:07\",\n          \"3/30/2019 20:50\"\n        ],\n        \"semantic_type\": \"\",\n        \"description\": \"\"\n      }\n    },\n    {\n      \"column\": \"dropoff\",\n      \"properties\": {\n        \"dtype\": \"object\",\n        \"num_unique_values\": 5880,\n        \"samples\": [\n          \"3/5/2019 11:44\",\n          \"3/30/2019 13:48\",\n          \"3/16/2019 13:33\"\n        ],\n        \"semantic_type\": \"\",\n        \"description\": \"\"\n      }\n    },\n    {\n      \"column\": \"passengers\",\n      \"properties\": {\n        \"dtype\": \"number\",\n        \"std\": 1,\n        \"min\": 0,\n        \"max\": 6,\n        \"num_unique_values\": 7,\n        \"samples\": [\n          1,\n          3,\n          2\n        ],\n        \"semantic_type\": \"\",\n        \"description\": \"\"\n      }\n    },\n    {\n      \"column\": \"distance\",\n      \"properties\": {\n        \"dtype\": \"number\",\n        \"std\": 3.8278670010117537,\n        \"min\": 0.0,\n        \"max\": 36.7,\n        \"num_unique_values\": 1079,\n        \"samples\": [\n          2.08,\n          19.43,\n          16.65\n        ],\n        \"semantic_type\": \"\",\n        \"description\": \"\"\n      }\n    },\n    {\n      \"column\": \"fare\",\n      \"properties\": {\n        \"dtype\": \"number\",\n        \"std\": 11.55180426641491,\n        \"min\": 1.0,\n        \"max\": 150.0,\n        \"num_unique_values\": 220,\n        \"samples\": [\n          143.5,\n          16.39,\n          44.5\n        ],\n        \"semantic_type\": \"\",\n        \"description\": \"\"\n      }\n    },\n    {\n      \"column\": \"tip\",\n      \"properties\": {\n        \"dtype\": \"number\",\n        \"std\": 2.4485595916360454,\n        \"min\": 0.0,\n        \"max\": 33.2,\n        \"num_unique_values\": 489,\n        \"samples\": [\n          3.21,\n          7.31,\n          6.82\n        ],\n        \"semantic_type\": \"\",\n        \"description\": \"\"\n      }\n    },\n    {\n      \"column\": \"tolls\",\n      \"properties\": {\n        \"dtype\": \"number\",\n        \"std\": 1.4152673297904774,\n        \"min\": 0.0,\n        \"max\": 24.02,\n        \"num_unique_values\": 16,\n        \"samples\": [\n          0.0,\n          5.76,\n          17.28\n        ],\n        \"semantic_type\": \"\",\n        \"description\": \"\"\n      }\n    },\n    {\n      \"column\": \"total\",\n      \"properties\": {\n        \"dtype\": \"number\",\n        \"std\": 13.81557004106683,\n        \"min\": 1.3,\n        \"max\": 174.82,\n        \"num_unique_values\": 898,\n        \"samples\": [\n          4.8,\n          42.0,\n          50.76\n        ],\n        \"semantic_type\": \"\",\n        \"description\": \"\"\n      }\n    },\n    {\n      \"column\": \"color\",\n      \"properties\": {\n        \"dtype\": \"category\",\n        \"num_unique_values\": 2,\n        \"samples\": [\n          \"green\",\n          \"yellow\"\n        ],\n        \"semantic_type\": \"\",\n        \"description\": \"\"\n      }\n    },\n    {\n      \"column\": \"payment\",\n      \"properties\": {\n        \"dtype\": \"category\",\n        \"num_unique_values\": 2,\n        \"samples\": [\n          \"cash\",\n          \"credit card\"\n        ],\n        \"semantic_type\": \"\",\n        \"description\": \"\"\n      }\n    },\n    {\n      \"column\": \"pickup_zone\",\n      \"properties\": {\n        \"dtype\": \"category\",\n        \"num_unique_values\": 194,\n        \"samples\": [\n          \"University Heights/Morris Heights\",\n          \"Gramercy\"\n        ],\n        \"semantic_type\": \"\",\n        \"description\": \"\"\n      }\n    },\n    {\n      \"column\": \"dropoff_zone\",\n      \"properties\": {\n        \"dtype\": \"category\",\n        \"num_unique_values\": 203,\n        \"samples\": [\n          \"East Chelsea\",\n          \"Astoria\"\n        ],\n        \"semantic_type\": \"\",\n        \"description\": \"\"\n      }\n    },\n    {\n      \"column\": \"pickup_borough\",\n      \"properties\": {\n        \"dtype\": \"category\",\n        \"num_unique_values\": 4,\n        \"samples\": [\n          \"Queens\",\n          \"Brooklyn\"\n        ],\n        \"semantic_type\": \"\",\n        \"description\": \"\"\n      }\n    },\n    {\n      \"column\": \"dropoff_borough\",\n      \"properties\": {\n        \"dtype\": \"category\",\n        \"num_unique_values\": 5,\n        \"samples\": [\n          \"Queens\",\n          \"Staten Island\"\n        ],\n        \"semantic_type\": \"\",\n        \"description\": \"\"\n      }\n    }\n  ]\n}"
            }
          },
          "metadata": {},
          "execution_count": 7
        }
      ],
      "source": [
        "# Display of dataset for first 10\n",
        "df.head()"
      ]
    },
    {
      "cell_type": "code",
      "execution_count": 8,
      "id": "64562c4f-ff97-40bf-b4dc-8fc1543bd21b",
      "metadata": {
        "id": "64562c4f-ff97-40bf-b4dc-8fc1543bd21b",
        "colab": {
          "base_uri": "https://localhost:8080/"
        },
        "outputId": "72538f05-ee31-4d16-b8b6-2b8b7a1a976e"
      },
      "outputs": [
        {
          "output_type": "execute_result",
          "data": {
            "text/plain": [
              "6433"
            ]
          },
          "metadata": {},
          "execution_count": 8
        }
      ],
      "source": [
        "# How many rows in dataframe\n",
        "df.shape[0]"
      ]
    },
    {
      "cell_type": "code",
      "execution_count": 9,
      "id": "5ddd1860-f82a-4e04-8a17-05a895de8bdf",
      "metadata": {
        "id": "5ddd1860-f82a-4e04-8a17-05a895de8bdf",
        "colab": {
          "base_uri": "https://localhost:8080/"
        },
        "outputId": "ee8d7daa-87ab-4b9e-f8cc-713ed3303b71"
      },
      "outputs": [
        {
          "output_type": "execute_result",
          "data": {
            "text/plain": [
              "14"
            ]
          },
          "metadata": {},
          "execution_count": 9
        }
      ],
      "source": [
        "# How many columns in dataframe\n",
        "df.shape[1]"
      ]
    },
    {
      "cell_type": "code",
      "execution_count": 10,
      "id": "d6376fc1-0730-45a3-810f-9ba1feeaa89e",
      "metadata": {
        "id": "d6376fc1-0730-45a3-810f-9ba1feeaa89e",
        "colab": {
          "base_uri": "https://localhost:8080/",
          "height": 523
        },
        "outputId": "0e67ddda-4ef8-411f-a179-2a36d1b649d3"
      },
      "outputs": [
        {
          "output_type": "execute_result",
          "data": {
            "text/plain": [
              "pickup              0\n",
              "dropoff             0\n",
              "passengers          0\n",
              "distance            0\n",
              "fare                0\n",
              "tip                 0\n",
              "tolls               0\n",
              "total               0\n",
              "color               0\n",
              "payment            44\n",
              "pickup_zone        26\n",
              "dropoff_zone       45\n",
              "pickup_borough     26\n",
              "dropoff_borough    45\n",
              "dtype: int64"
            ],
            "text/html": [
              "<div>\n",
              "<style scoped>\n",
              "    .dataframe tbody tr th:only-of-type {\n",
              "        vertical-align: middle;\n",
              "    }\n",
              "\n",
              "    .dataframe tbody tr th {\n",
              "        vertical-align: top;\n",
              "    }\n",
              "\n",
              "    .dataframe thead th {\n",
              "        text-align: right;\n",
              "    }\n",
              "</style>\n",
              "<table border=\"1\" class=\"dataframe\">\n",
              "  <thead>\n",
              "    <tr style=\"text-align: right;\">\n",
              "      <th></th>\n",
              "      <th>0</th>\n",
              "    </tr>\n",
              "  </thead>\n",
              "  <tbody>\n",
              "    <tr>\n",
              "      <th>pickup</th>\n",
              "      <td>0</td>\n",
              "    </tr>\n",
              "    <tr>\n",
              "      <th>dropoff</th>\n",
              "      <td>0</td>\n",
              "    </tr>\n",
              "    <tr>\n",
              "      <th>passengers</th>\n",
              "      <td>0</td>\n",
              "    </tr>\n",
              "    <tr>\n",
              "      <th>distance</th>\n",
              "      <td>0</td>\n",
              "    </tr>\n",
              "    <tr>\n",
              "      <th>fare</th>\n",
              "      <td>0</td>\n",
              "    </tr>\n",
              "    <tr>\n",
              "      <th>tip</th>\n",
              "      <td>0</td>\n",
              "    </tr>\n",
              "    <tr>\n",
              "      <th>tolls</th>\n",
              "      <td>0</td>\n",
              "    </tr>\n",
              "    <tr>\n",
              "      <th>total</th>\n",
              "      <td>0</td>\n",
              "    </tr>\n",
              "    <tr>\n",
              "      <th>color</th>\n",
              "      <td>0</td>\n",
              "    </tr>\n",
              "    <tr>\n",
              "      <th>payment</th>\n",
              "      <td>44</td>\n",
              "    </tr>\n",
              "    <tr>\n",
              "      <th>pickup_zone</th>\n",
              "      <td>26</td>\n",
              "    </tr>\n",
              "    <tr>\n",
              "      <th>dropoff_zone</th>\n",
              "      <td>45</td>\n",
              "    </tr>\n",
              "    <tr>\n",
              "      <th>pickup_borough</th>\n",
              "      <td>26</td>\n",
              "    </tr>\n",
              "    <tr>\n",
              "      <th>dropoff_borough</th>\n",
              "      <td>45</td>\n",
              "    </tr>\n",
              "  </tbody>\n",
              "</table>\n",
              "</div><br><label><b>dtype:</b> int64</label>"
            ]
          },
          "metadata": {},
          "execution_count": 10
        }
      ],
      "source": [
        "# Checking for missing values\n",
        "df.isnull().sum()"
      ]
    },
    {
      "cell_type": "code",
      "execution_count": 11,
      "id": "1e9dc646-7c06-46d8-93a6-ef92a59a89ac",
      "metadata": {
        "id": "1e9dc646-7c06-46d8-93a6-ef92a59a89ac",
        "colab": {
          "base_uri": "https://localhost:8080/"
        },
        "outputId": "843657a0-400c-47d2-c15b-60ae3e393dbf"
      },
      "outputs": [
        {
          "output_type": "execute_result",
          "data": {
            "text/plain": [
              "np.float64(3.024616819524328)"
            ]
          },
          "metadata": {},
          "execution_count": 11
        }
      ],
      "source": [
        "# Checking for average distance by trip\n",
        "df['distance'].mean()"
      ]
    },
    {
      "cell_type": "code",
      "execution_count": 12,
      "id": "d0e58e6d-6e25-41e5-8f75-e92e86f766ab",
      "metadata": {
        "id": "d0e58e6d-6e25-41e5-8f75-e92e86f766ab",
        "colab": {
          "base_uri": "https://localhost:8080/",
          "height": 447
        },
        "outputId": "21a8a7df-bc0b-409e-c97d-e7bd9adecdd9"
      },
      "outputs": [
        {
          "output_type": "execute_result",
          "data": {
            "text/plain": [
              "<Axes: >"
            ]
          },
          "metadata": {},
          "execution_count": 12
        },
        {
          "output_type": "display_data",
          "data": {
            "text/plain": [
              "<Figure size 640x480 with 1 Axes>"
            ],
            "image/png": "[encoded data removed]"
          },
          "metadata": {}
        }
      ],
      "source": [
        "# Creating a visualization for distribution of distance\n",
        "df['distance'].hist()"
      ]
    },
    {
      "cell_type": "markdown",
      "source": [
        "From our observation, the distribution of the dataset is positively skewed. this means that, there are more data points clustered (grouped together) on the left side of the distribution, with fewer data points extending towards the right.\n",
        "Also, the number of people that traveled short distance, are more than the people that traveled for a longer distance."
      ],
      "metadata": {
        "id": "_AdnAvvTrOTA"
      },
      "id": "_AdnAvvTrOTA"
    },
    {
      "cell_type": "code",
      "execution_count": 13,
      "id": "d3dcb949-629f-4dec-be4c-e0e366584a7d",
      "metadata": {
        "id": "d3dcb949-629f-4dec-be4c-e0e366584a7d",
        "colab": {
          "base_uri": "https://localhost:8080/",
          "height": 466
        },
        "outputId": "6238b506-fbc1-45e8-8e06-3880f440f319"
      },
      "outputs": [
        {
          "output_type": "execute_result",
          "data": {
            "text/plain": [
              "<Axes: xlabel='distance', ylabel='total'>"
            ]
          },
          "metadata": {},
          "execution_count": 13
        },
        {
          "output_type": "display_data",
          "data": {
            "text/plain": [
              "<Figure size 640x480 with 1 Axes>"
            ],
            "image/png": "[encoded data removed]"
          },
          "metadata": {}
        }
      ],
      "source": [
        "# A scatterplot to show total cost of trip over distance traveled\n",
        "df.plot.scatter(x='distance', y='total')"
      ]
    },
    {
      "cell_type": "markdown",
      "source": [
        "The scatter plot shows a positive correlation. This suggests that the variables are positively related. From our observation, as distance increases, total value also increases."
      ],
      "metadata": {
        "id": "sg3BbTKdtnaJ"
      },
      "id": "sg3BbTKdtnaJ"
    },
    {
      "cell_type": "code",
      "execution_count": 14,
      "id": "70d963be-d70c-4451-81e8-7f0743ad5d2c",
      "metadata": {
        "id": "70d963be-d70c-4451-81e8-7f0743ad5d2c"
      },
      "outputs": [],
      "source": [
        "# Dropping rows in payment columns with missing values\n",
        "df.dropna(subset=['payment'],inplace=True)"
      ]
    },
    {
      "cell_type": "code",
      "execution_count": 15,
      "id": "c754fa89-515f-4e33-95e3-504d1364ae4d",
      "metadata": {
        "id": "c754fa89-515f-4e33-95e3-504d1364ae4d",
        "colab": {
          "base_uri": "https://localhost:8080/",
          "height": 523
        },
        "outputId": "cc0695d8-966c-4e05-f4bc-9a8398c7258f"
      },
      "outputs": [
        {
          "output_type": "execute_result",
          "data": {
            "text/plain": [
              "pickup              0\n",
              "dropoff             0\n",
              "passengers          0\n",
              "distance            0\n",
              "fare                0\n",
              "tip                 0\n",
              "tolls               0\n",
              "total               0\n",
              "color               0\n",
              "payment             0\n",
              "pickup_zone        25\n",
              "dropoff_zone       44\n",
              "pickup_borough     25\n",
              "dropoff_borough    44\n",
              "dtype: int64"
            ],
            "text/html": [
              "<div>\n",
              "<style scoped>\n",
              "    .dataframe tbody tr th:only-of-type {\n",
              "        vertical-align: middle;\n",
              "    }\n",
              "\n",
              "    .dataframe tbody tr th {\n",
              "        vertical-align: top;\n",
              "    }\n",
              "\n",
              "    .dataframe thead th {\n",
              "        text-align: right;\n",
              "    }\n",
              "</style>\n",
              "<table border=\"1\" class=\"dataframe\">\n",
              "  <thead>\n",
              "    <tr style=\"text-align: right;\">\n",
              "      <th></th>\n",
              "      <th>0</th>\n",
              "    </tr>\n",
              "  </thead>\n",
              "  <tbody>\n",
              "    <tr>\n",
              "      <th>pickup</th>\n",
              "      <td>0</td>\n",
              "    </tr>\n",
              "    <tr>\n",
              "      <th>dropoff</th>\n",
              "      <td>0</td>\n",
              "    </tr>\n",
              "    <tr>\n",
              "      <th>passengers</th>\n",
              "      <td>0</td>\n",
              "    </tr>\n",
              "    <tr>\n",
              "      <th>distance</th>\n",
              "      <td>0</td>\n",
              "    </tr>\n",
              "    <tr>\n",
              "      <th>fare</th>\n",
              "      <td>0</td>\n",
              "    </tr>\n",
              "    <tr>\n",
              "      <th>tip</th>\n",
              "      <td>0</td>\n",
              "    </tr>\n",
              "    <tr>\n",
              "      <th>tolls</th>\n",
              "      <td>0</td>\n",
              "    </tr>\n",
              "    <tr>\n",
              "      <th>total</th>\n",
              "      <td>0</td>\n",
              "    </tr>\n",
              "    <tr>\n",
              "      <th>color</th>\n",
              "      <td>0</td>\n",
              "    </tr>\n",
              "    <tr>\n",
              "      <th>payment</th>\n",
              "      <td>0</td>\n",
              "    </tr>\n",
              "    <tr>\n",
              "      <th>pickup_zone</th>\n",
              "      <td>25</td>\n",
              "    </tr>\n",
              "    <tr>\n",
              "      <th>dropoff_zone</th>\n",
              "      <td>44</td>\n",
              "    </tr>\n",
              "    <tr>\n",
              "      <th>pickup_borough</th>\n",
              "      <td>25</td>\n",
              "    </tr>\n",
              "    <tr>\n",
              "      <th>dropoff_borough</th>\n",
              "      <td>44</td>\n",
              "    </tr>\n",
              "  </tbody>\n",
              "</table>\n",
              "</div><br><label><b>dtype:</b> int64</label>"
            ]
          },
          "metadata": {},
          "execution_count": 15
        }
      ],
      "source": [
        "# checking if payment missing values are dropped\n",
        "df.isnull().sum()"
      ]
    },
    {
      "cell_type": "code",
      "execution_count": 16,
      "id": "21973613-ec9e-4f42-86f4-46de669afdbd",
      "metadata": {
        "id": "21973613-ec9e-4f42-86f4-46de669afdbd",
        "colab": {
          "base_uri": "https://localhost:8080/"
        },
        "outputId": "e23a08cf-db71-4df2-f86d-7eb62421fc37"
      },
      "outputs": [
        {
          "output_type": "execute_result",
          "data": {
            "text/plain": [
              "array(['credit card', 'cash'], dtype=object)"
            ]
          },
          "metadata": {},
          "execution_count": 16
        }
      ],
      "source": [
        "# Form of paymenting used\n",
        "df['payment'].unique()"
      ]
    },
    {
      "cell_type": "code",
      "execution_count": 17,
      "id": "07185334-1be2-4d41-b3d3-17a93ebb90a6",
      "metadata": {
        "id": "07185334-1be2-4d41-b3d3-17a93ebb90a6",
        "colab": {
          "base_uri": "https://localhost:8080/",
          "height": 466
        },
        "outputId": "0be27f02-4d86-4393-876c-f4297c1fd983"
      },
      "outputs": [
        {
          "output_type": "execute_result",
          "data": {
            "text/plain": [
              "<Axes: xlabel='payment', ylabel='count'>"
            ]
          },
          "metadata": {},
          "execution_count": 17
        },
        {
          "output_type": "display_data",
          "data": {
            "text/plain": [
              "<Figure size 640x480 with 1 Axes>"
            ],
            "image/png": "[encoded data removed]"
          },
          "metadata": {}
        }
      ],
      "source": [
        "# Visualization showing how many trip were paid with either cash or credit card\n",
        "sns.countplot(x='payment',data=df)"
      ]
    },
    {
      "cell_type": "markdown",
      "source": [
        "From the visualisation above, the distribution indicates that, the use of credit cards were high than the use of cash."
      ],
      "metadata": {
        "id": "vxSuzvZ51rRG"
      },
      "id": "vxSuzvZ51rRG"
    },
    {
      "cell_type": "code",
      "execution_count": 18,
      "id": "ef51cd17-48b5-433a-9bfa-da2b37640249",
      "metadata": {
        "id": "ef51cd17-48b5-433a-9bfa-da2b37640249",
        "colab": {
          "base_uri": "https://localhost:8080/",
          "height": 178
        },
        "outputId": "bd1a46de-0be2-40c5-b966-5e2883c4151d"
      },
      "outputs": [
        {
          "output_type": "execute_result",
          "data": {
            "text/plain": [
              "payment\n",
              "credit card    4577\n",
              "cash           1812\n",
              "Name: count, dtype: int64"
            ],
            "text/html": [
              "<div>\n",
              "<style scoped>\n",
              "    .dataframe tbody tr th:only-of-type {\n",
              "        vertical-align: middle;\n",
              "    }\n",
              "\n",
              "    .dataframe tbody tr th {\n",
              "        vertical-align: top;\n",
              "    }\n",
              "\n",
              "    .dataframe thead th {\n",
              "        text-align: right;\n",
              "    }\n",
              "</style>\n",
              "<table border=\"1\" class=\"dataframe\">\n",
              "  <thead>\n",
              "    <tr style=\"text-align: right;\">\n",
              "      <th></th>\n",
              "      <th>count</th>\n",
              "    </tr>\n",
              "    <tr>\n",
              "      <th>payment</th>\n",
              "      <th></th>\n",
              "    </tr>\n",
              "  </thead>\n",
              "  <tbody>\n",
              "    <tr>\n",
              "      <th>credit card</th>\n",
              "      <td>4577</td>\n",
              "    </tr>\n",
              "    <tr>\n",
              "      <th>cash</th>\n",
              "      <td>1812</td>\n",
              "    </tr>\n",
              "  </tbody>\n",
              "</table>\n",
              "</div><br><label><b>dtype:</b> int64</label>"
            ]
          },
          "metadata": {},
          "execution_count": 18
        }
      ],
      "source": [
        "#  Actually figure for each payment method\n",
        "df['payment'].value_counts()"
      ]
    },
    {
      "cell_type": "code",
      "execution_count": 19,
      "id": "cdbbe345-dcb0-45b2-a495-3578e3c2445e",
      "metadata": {
        "id": "cdbbe345-dcb0-45b2-a495-3578e3c2445e"
      },
      "outputs": [],
      "source": [
        "# Dropping rows with missing value in \"pickup_borough\" column\n",
        "df.dropna(subset=['pickup_borough'],inplace=True)"
      ]
    },
    {
      "cell_type": "code",
      "execution_count": 20,
      "id": "550a64d7-942e-4038-964a-bcd60177906a",
      "metadata": {
        "id": "550a64d7-942e-4038-964a-bcd60177906a",
        "colab": {
          "base_uri": "https://localhost:8080/",
          "height": 523
        },
        "outputId": "9b74a3b7-05d7-4d8d-b9e7-8e7695f0715c"
      },
      "outputs": [
        {
          "output_type": "execute_result",
          "data": {
            "text/plain": [
              "pickup              0\n",
              "dropoff             0\n",
              "passengers          0\n",
              "distance            0\n",
              "fare                0\n",
              "tip                 0\n",
              "tolls               0\n",
              "total               0\n",
              "color               0\n",
              "payment             0\n",
              "pickup_zone         0\n",
              "dropoff_zone       23\n",
              "pickup_borough      0\n",
              "dropoff_borough    23\n",
              "dtype: int64"
            ],
            "text/html": [
              "<div>\n",
              "<style scoped>\n",
              "    .dataframe tbody tr th:only-of-type {\n",
              "        vertical-align: middle;\n",
              "    }\n",
              "\n",
              "    .dataframe tbody tr th {\n",
              "        vertical-align: top;\n",
              "    }\n",
              "\n",
              "    .dataframe thead th {\n",
              "        text-align: right;\n",
              "    }\n",
              "</style>\n",
              "<table border=\"1\" class=\"dataframe\">\n",
              "  <thead>\n",
              "    <tr style=\"text-align: right;\">\n",
              "      <th></th>\n",
              "      <th>0</th>\n",
              "    </tr>\n",
              "  </thead>\n",
              "  <tbody>\n",
              "    <tr>\n",
              "      <th>pickup</th>\n",
              "      <td>0</td>\n",
              "    </tr>\n",
              "    <tr>\n",
              "      <th>dropoff</th>\n",
              "      <td>0</td>\n",
              "    </tr>\n",
              "    <tr>\n",
              "      <th>passengers</th>\n",
              "      <td>0</td>\n",
              "    </tr>\n",
              "    <tr>\n",
              "      <th>distance</th>\n",
              "      <td>0</td>\n",
              "    </tr>\n",
              "    <tr>\n",
              "      <th>fare</th>\n",
              "      <td>0</td>\n",
              "    </tr>\n",
              "    <tr>\n",
              "      <th>tip</th>\n",
              "      <td>0</td>\n",
              "    </tr>\n",
              "    <tr>\n",
              "      <th>tolls</th>\n",
              "      <td>0</td>\n",
              "    </tr>\n",
              "    <tr>\n",
              "      <th>total</th>\n",
              "      <td>0</td>\n",
              "    </tr>\n",
              "    <tr>\n",
              "      <th>color</th>\n",
              "      <td>0</td>\n",
              "    </tr>\n",
              "    <tr>\n",
              "      <th>payment</th>\n",
              "      <td>0</td>\n",
              "    </tr>\n",
              "    <tr>\n",
              "      <th>pickup_zone</th>\n",
              "      <td>0</td>\n",
              "    </tr>\n",
              "    <tr>\n",
              "      <th>dropoff_zone</th>\n",
              "      <td>23</td>\n",
              "    </tr>\n",
              "    <tr>\n",
              "      <th>pickup_borough</th>\n",
              "      <td>0</td>\n",
              "    </tr>\n",
              "    <tr>\n",
              "      <th>dropoff_borough</th>\n",
              "      <td>23</td>\n",
              "    </tr>\n",
              "  </tbody>\n",
              "</table>\n",
              "</div><br><label><b>dtype:</b> int64</label>"
            ]
          },
          "metadata": {},
          "execution_count": 20
        }
      ],
      "source": [
        "# Checking of missing values are dropped from \"pickup_borough\" column\n",
        "df.isnull().sum()"
      ]
    },
    {
      "cell_type": "code",
      "execution_count": 21,
      "id": "9a1e0706-ca45-4bd4-89d5-1f3c0de8591f",
      "metadata": {
        "id": "9a1e0706-ca45-4bd4-89d5-1f3c0de8591f",
        "colab": {
          "base_uri": "https://localhost:8080/"
        },
        "outputId": "d9bfdb07-1b7d-493d-fe6c-0bc798a59bfc"
      },
      "outputs": [
        {
          "output_type": "execute_result",
          "data": {
            "text/plain": [
              "array(['Manhattan', 'Queens', 'Bronx', 'Brooklyn'], dtype=object)"
            ]
          },
          "metadata": {},
          "execution_count": 21
        }
      ],
      "source": [
        "# Pick up borough by\n",
        "df['pickup_borough'].unique()"
      ]
    },
    {
      "cell_type": "code",
      "execution_count": 22,
      "id": "7f30ef37-843f-4e15-b286-b81be4f0c01b",
      "metadata": {
        "id": "7f30ef37-843f-4e15-b286-b81be4f0c01b",
        "colab": {
          "base_uri": "https://localhost:8080/",
          "height": 467
        },
        "outputId": "075619d8-928d-44c3-b1e3-dd0b50271398"
      },
      "outputs": [
        {
          "output_type": "execute_result",
          "data": {
            "text/plain": [
              "<Axes: xlabel='pickup_borough', ylabel='count'>"
            ]
          },
          "metadata": {},
          "execution_count": 22
        },
        {
          "output_type": "display_data",
          "data": {
            "text/plain": [
              "<Figure size 640x480 with 1 Axes>"
            ],
            "image/png": "[encoded data removed]"
          },
          "metadata": {}
        }
      ],
      "source": [
        "# Visualization showing the distribution of taxi pickups across borough\n",
        "sns.countplot(x='pickup_borough',data=df)"
      ]
    },
    {
      "cell_type": "code",
      "execution_count": 23,
      "id": "b5507d64-3ad5-4d5b-be39-ead5ea569f2d",
      "metadata": {
        "id": "b5507d64-3ad5-4d5b-be39-ead5ea569f2d"
      },
      "outputs": [],
      "source": [
        "# Dropping rows with missn=ing values in \"dropoff_borough\" column\n",
        "df.dropna(subset=['dropoff_borough'],inplace=True)"
      ]
    },
    {
      "cell_type": "code",
      "execution_count": 24,
      "id": "52849059-6a51-42ee-a296-c0acfa617285",
      "metadata": {
        "id": "52849059-6a51-42ee-a296-c0acfa617285",
        "colab": {
          "base_uri": "https://localhost:8080/",
          "height": 523
        },
        "outputId": "71cea66f-1418-4d16-8c74-4f5eb69dd7d7"
      },
      "outputs": [
        {
          "output_type": "execute_result",
          "data": {
            "text/plain": [
              "pickup             0\n",
              "dropoff            0\n",
              "passengers         0\n",
              "distance           0\n",
              "fare               0\n",
              "tip                0\n",
              "tolls              0\n",
              "total              0\n",
              "color              0\n",
              "payment            0\n",
              "pickup_zone        0\n",
              "dropoff_zone       0\n",
              "pickup_borough     0\n",
              "dropoff_borough    0\n",
              "dtype: int64"
            ],
            "text/html": [
              "<div>\n",
              "<style scoped>\n",
              "    .dataframe tbody tr th:only-of-type {\n",
              "        vertical-align: middle;\n",
              "    }\n",
              "\n",
              "    .dataframe tbody tr th {\n",
              "        vertical-align: top;\n",
              "    }\n",
              "\n",
              "    .dataframe thead th {\n",
              "        text-align: right;\n",
              "    }\n",
              "</style>\n",
              "<table border=\"1\" class=\"dataframe\">\n",
              "  <thead>\n",
              "    <tr style=\"text-align: right;\">\n",
              "      <th></th>\n",
              "      <th>0</th>\n",
              "    </tr>\n",
              "  </thead>\n",
              "  <tbody>\n",
              "    <tr>\n",
              "      <th>pickup</th>\n",
              "      <td>0</td>\n",
              "    </tr>\n",
              "    <tr>\n",
              "      <th>dropoff</th>\n",
              "      <td>0</td>\n",
              "    </tr>\n",
              "    <tr>\n",
              "      <th>passengers</th>\n",
              "      <td>0</td>\n",
              "    </tr>\n",
              "    <tr>\n",
              "      <th>distance</th>\n",
              "      <td>0</td>\n",
              "    </tr>\n",
              "    <tr>\n",
              "      <th>fare</th>\n",
              "      <td>0</td>\n",
              "    </tr>\n",
              "    <tr>\n",
              "      <th>tip</th>\n",
              "      <td>0</td>\n",
              "    </tr>\n",
              "    <tr>\n",
              "      <th>tolls</th>\n",
              "      <td>0</td>\n",
              "    </tr>\n",
              "    <tr>\n",
              "      <th>total</th>\n",
              "      <td>0</td>\n",
              "    </tr>\n",
              "    <tr>\n",
              "      <th>color</th>\n",
              "      <td>0</td>\n",
              "    </tr>\n",
              "    <tr>\n",
              "      <th>payment</th>\n",
              "      <td>0</td>\n",
              "    </tr>\n",
              "    <tr>\n",
              "      <th>pickup_zone</th>\n",
              "      <td>0</td>\n",
              "    </tr>\n",
              "    <tr>\n",
              "      <th>dropoff_zone</th>\n",
              "      <td>0</td>\n",
              "    </tr>\n",
              "    <tr>\n",
              "      <th>pickup_borough</th>\n",
              "      <td>0</td>\n",
              "    </tr>\n",
              "    <tr>\n",
              "      <th>dropoff_borough</th>\n",
              "      <td>0</td>\n",
              "    </tr>\n",
              "  </tbody>\n",
              "</table>\n",
              "</div><br><label><b>dtype:</b> int64</label>"
            ]
          },
          "metadata": {},
          "execution_count": 24
        }
      ],
      "source": [
        "# Checking to see if missing values are dropped from \"dropoff_borough\" colum\n",
        "df.isnull().sum()"
      ]
    },
    {
      "cell_type": "code",
      "execution_count": 25,
      "id": "88889bf1-efac-4b24-af77-269822f5c6f3",
      "metadata": {
        "id": "88889bf1-efac-4b24-af77-269822f5c6f3",
        "colab": {
          "base_uri": "https://localhost:8080/",
          "height": 272
        },
        "outputId": "fd853383-3311-41c9-e00a-5ccf618aa38c"
      },
      "outputs": [
        {
          "output_type": "execute_result",
          "data": {
            "text/plain": [
              "dropoff_borough\n",
              "Manhattan        5172\n",
              "Queens            534\n",
              "Brooklyn          497\n",
              "Bronx             136\n",
              "Staten Island       2\n",
              "Name: count, dtype: int64"
            ],
            "text/html": [
              "<div>\n",
              "<style scoped>\n",
              "    .dataframe tbody tr th:only-of-type {\n",
              "        vertical-align: middle;\n",
              "    }\n",
              "\n",
              "    .dataframe tbody tr th {\n",
              "        vertical-align: top;\n",
              "    }\n",
              "\n",
              "    .dataframe thead th {\n",
              "        text-align: right;\n",
              "    }\n",
              "</style>\n",
              "<table border=\"1\" class=\"dataframe\">\n",
              "  <thead>\n",
              "    <tr style=\"text-align: right;\">\n",
              "      <th></th>\n",
              "      <th>count</th>\n",
              "    </tr>\n",
              "    <tr>\n",
              "      <th>dropoff_borough</th>\n",
              "      <th></th>\n",
              "    </tr>\n",
              "  </thead>\n",
              "  <tbody>\n",
              "    <tr>\n",
              "      <th>Manhattan</th>\n",
              "      <td>5172</td>\n",
              "    </tr>\n",
              "    <tr>\n",
              "      <th>Queens</th>\n",
              "      <td>534</td>\n",
              "    </tr>\n",
              "    <tr>\n",
              "      <th>Brooklyn</th>\n",
              "      <td>497</td>\n",
              "    </tr>\n",
              "    <tr>\n",
              "      <th>Bronx</th>\n",
              "      <td>136</td>\n",
              "    </tr>\n",
              "    <tr>\n",
              "      <th>Staten Island</th>\n",
              "      <td>2</td>\n",
              "    </tr>\n",
              "  </tbody>\n",
              "</table>\n",
              "</div><br><label><b>dtype:</b> int64</label>"
            ]
          },
          "metadata": {},
          "execution_count": 25
        }
      ],
      "source": [
        "# How many taxi trips did dropoffs in each borough\n",
        "df['dropoff_borough'].value_counts()"
      ]
    },
    {
      "cell_type": "code",
      "execution_count": 26,
      "id": "20ab5510-31f6-4398-9f59-3d7f60c8a001",
      "metadata": {
        "id": "20ab5510-31f6-4398-9f59-3d7f60c8a001",
        "colab": {
          "base_uri": "https://localhost:8080/"
        },
        "outputId": "e6345d5f-f3da-4a4b-9818-b935ae5e64ad"
      },
      "outputs": [
        {
          "output_type": "execute_result",
          "data": {
            "text/plain": [
              "array(['Manhattan', 'Queens', 'Brooklyn', 'Bronx', 'Staten Island'],\n",
              "      dtype=object)"
            ]
          },
          "metadata": {},
          "execution_count": 26
        }
      ],
      "source": [
        "# Types of \"pickup_borough\"\n",
        "df['dropoff_borough'].unique()"
      ]
    },
    {
      "cell_type": "code",
      "execution_count": 27,
      "id": "b4ab290b-6bee-4f1e-a904-5be2c0625461",
      "metadata": {
        "id": "b4ab290b-6bee-4f1e-a904-5be2c0625461",
        "colab": {
          "base_uri": "https://localhost:8080/",
          "height": 467
        },
        "outputId": "61340f15-9566-4b3c-b0e4-a9dbdf26e9f8"
      },
      "outputs": [
        {
          "output_type": "execute_result",
          "data": {
            "text/plain": [
              "<Axes: xlabel='dropoff_borough', ylabel='count'>"
            ]
          },
          "metadata": {},
          "execution_count": 27
        },
        {
          "output_type": "display_data",
          "data": {
            "text/plain": [
              "<Figure size 640x480 with 1 Axes>"
            ],
            "image/png": "[encoded data removed]"
          },
          "metadata": {}
        }
      ],
      "source": [
        "# Visualization of dropoff_boroughs\n",
        "sns.countplot(x='dropoff_borough',data=df)"
      ]
    },
    {
      "cell_type": "code",
      "execution_count": 28,
      "id": "060cad73-e727-42a2-97ea-909c18159acc",
      "metadata": {
        "id": "060cad73-e727-42a2-97ea-909c18159acc",
        "colab": {
          "base_uri": "https://localhost:8080/",
          "height": 241
        },
        "outputId": "37d9f709-3992-4852-891a-57714774039e"
      },
      "outputs": [
        {
          "output_type": "execute_result",
          "data": {
            "text/plain": [
              "pickup_borough\n",
              "Manhattan    5226\n",
              "Queens        638\n",
              "Brooklyn      378\n",
              "Bronx          99\n",
              "Name: count, dtype: int64"
            ],
            "text/html": [
              "<div>\n",
              "<style scoped>\n",
              "    .dataframe tbody tr th:only-of-type {\n",
              "        vertical-align: middle;\n",
              "    }\n",
              "\n",
              "    .dataframe tbody tr th {\n",
              "        vertical-align: top;\n",
              "    }\n",
              "\n",
              "    .dataframe thead th {\n",
              "        text-align: right;\n",
              "    }\n",
              "</style>\n",
              "<table border=\"1\" class=\"dataframe\">\n",
              "  <thead>\n",
              "    <tr style=\"text-align: right;\">\n",
              "      <th></th>\n",
              "      <th>count</th>\n",
              "    </tr>\n",
              "    <tr>\n",
              "      <th>pickup_borough</th>\n",
              "      <th></th>\n",
              "    </tr>\n",
              "  </thead>\n",
              "  <tbody>\n",
              "    <tr>\n",
              "      <th>Manhattan</th>\n",
              "      <td>5226</td>\n",
              "    </tr>\n",
              "    <tr>\n",
              "      <th>Queens</th>\n",
              "      <td>638</td>\n",
              "    </tr>\n",
              "    <tr>\n",
              "      <th>Brooklyn</th>\n",
              "      <td>378</td>\n",
              "    </tr>\n",
              "    <tr>\n",
              "      <th>Bronx</th>\n",
              "      <td>99</td>\n",
              "    </tr>\n",
              "  </tbody>\n",
              "</table>\n",
              "</div><br><label><b>dtype:</b> int64</label>"
            ]
          },
          "metadata": {},
          "execution_count": 28
        }
      ],
      "source": [
        "# Number of pickups in each borough\n",
        "df['pickup_borough'].value_counts()"
      ]
    },
    {
      "cell_type": "code",
      "execution_count": 29,
      "id": "19f88225-1c11-41c2-98c5-c538e128e7b2",
      "metadata": {
        "id": "19f88225-1c11-41c2-98c5-c538e128e7b2"
      },
      "outputs": [],
      "source": [
        "# Creaking a subset for pickups only in Brooklyn\n",
        "df_bk=df[df['pickup_borough']=='Brooklyn']"
      ]
    },
    {
      "cell_type": "code",
      "execution_count": 30,
      "id": "a9f0927e-b2d9-40c7-b9c2-d77cdce19056",
      "metadata": {
        "id": "a9f0927e-b2d9-40c7-b9c2-d77cdce19056",
        "colab": {
          "base_uri": "https://localhost:8080/",
          "height": 206
        },
        "outputId": "4ffe5152-dda4-437c-f14c-d67e1769de57"
      },
      "outputs": [
        {
          "output_type": "execute_result",
          "data": {
            "text/plain": [
              "              pickup          dropoff  passengers  distance  fare   tip  \\\n",
              "114   3/5/2019 12:17   3/5/2019 12:36           1      5.98  19.0  5.58   \n",
              "155  3/21/2019 22:49  3/21/2019 22:55           1      1.03   6.0  1.46   \n",
              "214  3/22/2019 22:40  3/22/2019 22:55           1      2.75  12.5  0.00   \n",
              "266  3/26/2019 21:42  3/26/2019 22:05           2      4.40  17.5  3.76   \n",
              "332   3/16/2019 1:14   3/16/2019 1:26           1      2.60  11.0  0.00   \n",
              "\n",
              "     tolls  total   color      payment          pickup_zone  \\\n",
              "114    0.0  27.88  yellow  credit card     Brooklyn Heights   \n",
              "155    0.0   8.76  yellow  credit card   DUMBO/Vinegar Hill   \n",
              "214    0.0  13.80  yellow         cash   Stuyvesant Heights   \n",
              "266    0.0  22.56  yellow  credit card          Fort Greene   \n",
              "332    0.0  12.30  yellow         cash  Crown Heights North   \n",
              "\n",
              "            dropoff_zone pickup_borough dropoff_borough  \n",
              "114          Murray Hill       Brooklyn       Manhattan  \n",
              "155     Brooklyn Heights       Brooklyn        Brooklyn  \n",
              "214  Crown Heights North       Brooklyn        Brooklyn  \n",
              "266        Cypress Hills       Brooklyn        Brooklyn  \n",
              "332  Crown Heights South       Brooklyn        Brooklyn  "
            ],
            "text/html": [
              "\n",
              "  <div id=\"df-1bfb6bd9-82dd-495b-ab22-9f319e315d41\" class=\"colab-df-container\">\n",
              "    <div>\n",
              "<style scoped>\n",
              "    .dataframe tbody tr th:only-of-type {\n",
              "        vertical-align: middle;\n",
              "    }\n",
              "\n",
              "    .dataframe tbody tr th {\n",
              "        vertical-align: top;\n",
              "    }\n",
              "\n",
              "    .dataframe thead th {\n",
              "        text-align: right;\n",
              "    }\n",
              "</style>\n",
              "<table border=\"1\" class=\"dataframe\">\n",
              "  <thead>\n",
              "    <tr style=\"text-align: right;\">\n",
              "      <th></th>\n",
              "      <th>pickup</th>\n",
              "      <th>dropoff</th>\n",
              "      <th>passengers</th>\n",
              "      <th>distance</th>\n",
              "      <th>fare</th>\n",
              "      <th>tip</th>\n",
              "      <th>tolls</th>\n",
              "      <th>total</th>\n",
              "      <th>color</th>\n",
              "      <th>payment</th>\n",
              "      <th>pickup_zone</th>\n",
              "      <th>dropoff_zone</th>\n",
              "      <th>pickup_borough</th>\n",
              "      <th>dropoff_borough</th>\n",
              "    </tr>\n",
              "  </thead>\n",
              "  <tbody>\n",
              "    <tr>\n",
              "      <th>114</th>\n",
              "      <td>3/5/2019 12:17</td>\n",
              "      <td>3/5/2019 12:36</td>\n",
              "      <td>1</td>\n",
              "      <td>5.98</td>\n",
              "      <td>19.0</td>\n",
              "      <td>5.58</td>\n",
              "      <td>0.0</td>\n",
              "      <td>27.88</td>\n",
              "      <td>yellow</td>\n",
              "      <td>credit card</td>\n",
              "      <td>Brooklyn Heights</td>\n",
              "      <td>Murray Hill</td>\n",
              "      <td>Brooklyn</td>\n",
              "      <td>Manhattan</td>\n",
              "    </tr>\n",
              "    <tr>\n",
              "      <th>155</th>\n",
              "      <td>3/21/2019 22:49</td>\n",
              "      <td>3/21/2019 22:55</td>\n",
              "      <td>1</td>\n",
              "      <td>1.03</td>\n",
              "      <td>6.0</td>\n",
              "      <td>1.46</td>\n",
              "      <td>0.0</td>\n",
              "      <td>8.76</td>\n",
              "      <td>yellow</td>\n",
              "      <td>credit card</td>\n",
              "      <td>DUMBO/Vinegar Hill</td>\n",
              "      <td>Brooklyn Heights</td>\n",
              "      <td>Brooklyn</td>\n",
              "      <td>Brooklyn</td>\n",
              "    </tr>\n",
              "    <tr>\n",
              "      <th>214</th>\n",
              "      <td>3/22/2019 22:40</td>\n",
              "      <td>3/22/2019 22:55</td>\n",
              "      <td>1</td>\n",
              "      <td>2.75</td>\n",
              "      <td>12.5</td>\n",
              "      <td>0.00</td>\n",
              "      <td>0.0</td>\n",
              "      <td>13.80</td>\n",
              "      <td>yellow</td>\n",
              "      <td>cash</td>\n",
              "      <td>Stuyvesant Heights</td>\n",
              "      <td>Crown Heights North</td>\n",
              "      <td>Brooklyn</td>\n",
              "      <td>Brooklyn</td>\n",
              "    </tr>\n",
              "    <tr>\n",
              "      <th>266</th>\n",
              "      <td>3/26/2019 21:42</td>\n",
              "      <td>3/26/2019 22:05</td>\n",
              "      <td>2</td>\n",
              "      <td>4.40</td>\n",
              "      <td>17.5</td>\n",
              "      <td>3.76</td>\n",
              "      <td>0.0</td>\n",
              "      <td>22.56</td>\n",
              "      <td>yellow</td>\n",
              "      <td>credit card</td>\n",
              "      <td>Fort Greene</td>\n",
              "      <td>Cypress Hills</td>\n",
              "      <td>Brooklyn</td>\n",
              "      <td>Brooklyn</td>\n",
              "    </tr>\n",
              "    <tr>\n",
              "      <th>332</th>\n",
              "      <td>3/16/2019 1:14</td>\n",
              "      <td>3/16/2019 1:26</td>\n",
              "      <td>1</td>\n",
              "      <td>2.60</td>\n",
              "      <td>11.0</td>\n",
              "      <td>0.00</td>\n",
              "      <td>0.0</td>\n",
              "      <td>12.30</td>\n",
              "      <td>yellow</td>\n",
              "      <td>cash</td>\n",
              "      <td>Crown Heights North</td>\n",
              "      <td>Crown Heights South</td>\n",
              "      <td>Brooklyn</td>\n",
              "      <td>Brooklyn</td>\n",
              "    </tr>\n",
              "  </tbody>\n",
              "</table>\n",
              "</div>\n",
              "    <div class=\"colab-df-buttons\">\n",
              "\n",
              "  <div class=\"colab-df-container\">\n",
              "    <button class=\"colab-df-convert\" onclick=\"convertToInteractive('df-1bfb6bd9-82dd-495b-ab22-9f319e315d41')\"\n",
              "            title=\"Convert this dataframe to an interactive table.\"\n",
              "            style=\"display:none;\">\n",
              "\n",
              "  <svg xmlns=\"http://www.w3.org/2000/svg\" height=\"24px\" viewBox=\"0 -960 960 960\">\n",
              "    <path d=\"M120-120v-720h720v720H120Zm60-500h600v-160H180v160Zm220 220h160v-160H400v160Zm0 220h160v-160H400v160ZM180-400h160v-160H180v160Zm440 0h160v-160H620v160ZM180-180h160v-160H180v160Zm440 0h160v-160H620v160Z\"/>\n",
              "  </svg>\n",
              "    </button>\n",
              "\n",
              "  <style>\n",
              "    .colab-df-container {\n",
              "      display:flex;\n",
              "      gap: 12px;\n",
              "    }\n",
              "\n",
              "    .colab-df-convert {\n",
              "      background-color: #E8F0FE;\n",
              "      border: none;\n",
              "      border-radius: 50%;\n",
              "      cursor: pointer;\n",
              "      display: none;\n",
              "      fill: #1967D2;\n",
              "      height: 32px;\n",
              "      padding: 0 0 0 0;\n",
              "      width: 32px;\n",
              "    }\n",
              "\n",
              "    .colab-df-convert:hover {\n",
              "      background-color: #E2EBFA;\n",
              "      box-shadow: 0px 1px 2px rgba(60, 64, 67, 0.3), 0px 1px 3px 1px rgba(60, 64, 67, 0.15);\n",
              "      fill: #174EA6;\n",
              "    }\n",
              "\n",
              "    .colab-df-buttons div {\n",
              "      margin-bottom: 4px;\n",
              "    }\n",
              "\n",
              "    [theme=dark] .colab-df-convert {\n",
              "      background-color: #3B4455;\n",
              "      fill: #D2E3FC;\n",
              "    }\n",
              "\n",
              "    [theme=dark] .colab-df-convert:hover {\n",
              "      background-color: #434B5C;\n",
              "      box-shadow: 0px 1px 3px 1px rgba(0, 0, 0, 0.15);\n",
              "      filter: drop-shadow(0px 1px 2px rgba(0, 0, 0, 0.3));\n",
              "      fill: #FFFFFF;\n",
              "    }\n",
              "  </style>\n",
              "\n",
              "    <script>\n",
              "      const buttonEl =\n",
              "        document.querySelector('#df-1bfb6bd9-82dd-495b-ab22-9f319e315d41 button.colab-df-convert');\n",
              "      buttonEl.style.display =\n",
              "        google.colab.kernel.accessAllowed ? 'block' : 'none';\n",
              "\n",
              "      async function convertToInteractive(key) {\n",
              "        const element = document.querySelector('#df-1bfb6bd9-82dd-495b-ab22-9f319e315d41');\n",
              "        const dataTable =\n",
              "          await google.colab.kernel.invokeFunction('convertToInteractive',\n",
              "                                                    [key], {});\n",
              "        if (!dataTable) return;\n",
              "\n",
              "        const docLinkHtml = 'Like what you see? Visit the ' +\n",
              "          '<a target=\"_blank\" href=https://colab.research.google.com/notebooks/data_table.ipynb>data table notebook</a>'\n",
              "          + ' to learn more about interactive tables.';\n",
              "        element.innerHTML = '';\n",
              "        dataTable['output_type'] = 'display_data';\n",
              "        await google.colab.output.renderOutput(dataTable, element);\n",
              "        const docLink = document.createElement('div');\n",
              "        docLink.innerHTML = docLinkHtml;\n",
              "        element.appendChild(docLink);\n",
              "      }\n",
              "    </script>\n",
              "  </div>\n",
              "\n",
              "\n",
              "    <div id=\"df-b24ddc95-7aa2-48bb-81fd-e092664dcddd\">\n",
              "      <button class=\"colab-df-quickchart\" onclick=\"quickchart('df-b24ddc95-7aa2-48bb-81fd-e092664dcddd')\"\n",
              "                title=\"Suggest charts\"\n",
              "                style=\"display:none;\">\n",
              "\n",
              "<svg xmlns=\"http://www.w3.org/2000/svg\" height=\"24px\"viewBox=\"0 0 24 24\"\n",
              "     width=\"24px\">\n",
              "    <g>\n",
              "        <path d=\"M19 3H5c-1.1 0-2 .9-2 2v14c0 1.1.9 2 2 2h14c1.1 0 2-.9 2-2V5c0-1.1-.9-2-2-2zM9 17H7v-7h2v7zm4 0h-2V7h2v10zm4 0h-2v-4h2v4z\"/>\n",
              "    </g>\n",
              "</svg>\n",
              "      </button>\n",
              "\n",
              "<style>\n",
              "  .colab-df-quickchart {\n",
              "      --bg-color: #E8F0FE;\n",
              "      --fill-color: #1967D2;\n",
              "      --hover-bg-color: #E2EBFA;\n",
              "      --hover-fill-color: #174EA6;\n",
              "      --disabled-fill-color: #AAA;\n",
              "      --disabled-bg-color: #DDD;\n",
              "  }\n",
              "\n",
              "  [theme=dark] .colab-df-quickchart {\n",
              "      --bg-color: #3B4455;\n",
              "      --fill-color: #D2E3FC;\n",
              "      --hover-bg-color: #434B5C;\n",
              "      --hover-fill-color: #FFFFFF;\n",
              "      --disabled-bg-color: #3B4455;\n",
              "      --disabled-fill-color: #666;\n",
              "  }\n",
              "\n",
              "  .colab-df-quickchart {\n",
              "    background-color: var(--bg-color);\n",
              "    border: none;\n",
              "    border-radius: 50%;\n",
              "    cursor: pointer;\n",
              "    display: none;\n",
              "    fill: var(--fill-color);\n",
              "    height: 32px;\n",
              "    padding: 0;\n",
              "    width: 32px;\n",
              "  }\n",
              "\n",
              "  .colab-df-quickchart:hover {\n",
              "    background-color: var(--hover-bg-color);\n",
              "    box-shadow: 0 1px 2px rgba(60, 64, 67, 0.3), 0 1px 3px 1px rgba(60, 64, 67, 0.15);\n",
              "    fill: var(--button-hover-fill-color);\n",
              "  }\n",
              "\n",
              "  .colab-df-quickchart-complete:disabled,\n",
              "  .colab-df-quickchart-complete:disabled:hover {\n",
              "    background-color: var(--disabled-bg-color);\n",
              "    fill: var(--disabled-fill-color);\n",
              "    box-shadow: none;\n",
              "  }\n",
              "\n",
              "  .colab-df-spinner {\n",
              "    border: 2px solid var(--fill-color);\n",
              "    border-color: transparent;\n",
              "    border-bottom-color: var(--fill-color);\n",
              "    animation:\n",
              "      spin 1s steps(1) infinite;\n",
              "  }\n",
              "\n",
              "  @keyframes spin {\n",
              "    0% {\n",
              "      border-color: transparent;\n",
              "      border-bottom-color: var(--fill-color);\n",
              "      border-left-color: var(--fill-color);\n",
              "    }\n",
              "    20% {\n",
              "      border-color: transparent;\n",
              "      border-left-color: var(--fill-color);\n",
              "      border-top-color: var(--fill-color);\n",
              "    }\n",
              "    30% {\n",
              "      border-color: transparent;\n",
              "      border-left-color: var(--fill-color);\n",
              "      border-top-color: var(--fill-color);\n",
              "      border-right-color: var(--fill-color);\n",
              "    }\n",
              "    40% {\n",
              "      border-color: transparent;\n",
              "      border-right-color: var(--fill-color);\n",
              "      border-top-color: var(--fill-color);\n",
              "    }\n",
              "    60% {\n",
              "      border-color: transparent;\n",
              "      border-right-color: var(--fill-color);\n",
              "    }\n",
              "    80% {\n",
              "      border-color: transparent;\n",
              "      border-right-color: var(--fill-color);\n",
              "      border-bottom-color: var(--fill-color);\n",
              "    }\n",
              "    90% {\n",
              "      border-color: transparent;\n",
              "      border-bottom-color: var(--fill-color);\n",
              "    }\n",
              "  }\n",
              "</style>\n",
              "\n",
              "      <script>\n",
              "        async function quickchart(key) {\n",
              "          const quickchartButtonEl =\n",
              "            document.querySelector('#' + key + ' button');\n",
              "          quickchartButtonEl.disabled = true;  // To prevent multiple clicks.\n",
              "          quickchartButtonEl.classList.add('colab-df-spinner');\n",
              "          try {\n",
              "            const charts = await google.colab.kernel.invokeFunction(\n",
              "                'suggestCharts', [key], {});\n",
              "          } catch (error) {\n",
              "            console.error('Error during call to suggestCharts:', error);\n",
              "          }\n",
              "          quickchartButtonEl.classList.remove('colab-df-spinner');\n",
              "          quickchartButtonEl.classList.add('colab-df-quickchart-complete');\n",
              "        }\n",
              "        (() => {\n",
              "          let quickchartButtonEl =\n",
              "            document.querySelector('#df-b24ddc95-7aa2-48bb-81fd-e092664dcddd button');\n",
              "          quickchartButtonEl.style.display =\n",
              "            google.colab.kernel.accessAllowed ? 'block' : 'none';\n",
              "        })();\n",
              "      </script>\n",
              "    </div>\n",
              "\n",
              "    </div>\n",
              "  </div>\n"
            ],
            "application/vnd.google.colaboratory.intrinsic+json": {
              "type": "dataframe",
              "variable_name": "df_bk",
              "repr_error": "0"
            }
          },
          "metadata": {},
          "execution_count": 30
        }
      ],
      "source": [
        "# Showing pickups only in Brooklyn\n",
        "df_bk.head()"
      ]
    },
    {
      "cell_type": "code",
      "execution_count": 31,
      "id": "530ec249-b16a-48b0-bdda-95d167495e3e",
      "metadata": {
        "id": "530ec249-b16a-48b0-bdda-95d167495e3e",
        "colab": {
          "base_uri": "https://localhost:8080/"
        },
        "outputId": "5c34cd76-be44-4644-f2dc-54c1b76e44b0"
      },
      "outputs": [
        {
          "output_type": "execute_result",
          "data": {
            "text/plain": [
              "378"
            ]
          },
          "metadata": {},
          "execution_count": 31
        }
      ],
      "source": [
        "# Number of rows from subset\n",
        "df_bk.shape[0]"
      ]
    },
    {
      "cell_type": "code",
      "execution_count": 32,
      "id": "ab1e1ef2-c682-4f8b-a8b4-bd539b31d254",
      "metadata": {
        "id": "ab1e1ef2-c682-4f8b-a8b4-bd539b31d254",
        "colab": {
          "base_uri": "https://localhost:8080/"
        },
        "outputId": "8f697156-d265-499d-a2ef-9852cf4f7e8d"
      },
      "outputs": [
        {
          "output_type": "execute_result",
          "data": {
            "text/plain": [
              "14"
            ]
          },
          "metadata": {},
          "execution_count": 32
        }
      ],
      "source": [
        "# Number of coloums from subset\n",
        "df_bk.shape[1]"
      ]
    },
    {
      "cell_type": "code",
      "execution_count": 33,
      "id": "4f20593d-cbf3-4977-afea-e35c606af4f1",
      "metadata": {
        "id": "4f20593d-cbf3-4977-afea-e35c606af4f1",
        "colab": {
          "base_uri": "https://localhost:8080/",
          "height": 1000
        },
        "outputId": "ee972829-0a1d-4c34-fb62-db8e486c50e7"
      },
      "outputs": [
        {
          "output_type": "execute_result",
          "data": {
            "text/plain": [
              "pickup_zone\n",
              "Fort Greene                     39\n",
              "Downtown Brooklyn/MetroTech     37\n",
              "Brooklyn Heights                34\n",
              "Park Slope                      22\n",
              "Boerum Hill                     20\n",
              "Williamsburg (North Side)       15\n",
              "DUMBO/Vinegar Hill              15\n",
              "Crown Heights North             12\n",
              "Williamsburg (South Side)       11\n",
              "Cobble Hill                     11\n",
              "Greenpoint                       9\n",
              "East New York                    9\n",
              "Bushwick South                   9\n",
              "Sheepshead Bay                   8\n",
              "Stuyvesant Heights               8\n",
              "East Flatbush/Farragut           7\n",
              "Clinton Hill                     7\n",
              "Carroll Gardens                  7\n",
              "Midwood                          6\n",
              "Starrett City                    6\n",
              "Coney Island                     6\n",
              "East Flatbush/Remsen Village     6\n",
              "Bushwick North                   5\n",
              "East Williamsburg                5\n",
              "Flatbush/Ditmas Park             4\n",
              "Prospect-Lefferts Gardens        4\n",
              "Brownsville                      4\n",
              "Flatlands                        4\n",
              "Gravesend                        4\n",
              "Erasmus                          4\n",
              "Bay Ridge                        3\n",
              "Prospect Heights                 3\n",
              "Bedford                          3\n",
              "Marine Park/Mill Basin           3\n",
              "Windsor Terrace                  3\n",
              "Crown Heights South              3\n",
              "Canarsie                         3\n",
              "Sunset Park West                 3\n",
              "Gowanus                          2\n",
              "South Williamsburg               2\n",
              "Borough Park                     2\n",
              "Prospect Park                    2\n",
              "Madison                          2\n",
              "Bensonhurst East                 1\n",
              "Brighton Beach                   1\n",
              "Homecrest                        1\n",
              "Dyker Heights                    1\n",
              "Columbia Street                  1\n",
              "Bensonhurst West                 1\n",
              "Name: count, dtype: int64"
            ],
            "text/html": [
              "<div>\n",
              "<style scoped>\n",
              "    .dataframe tbody tr th:only-of-type {\n",
              "        vertical-align: middle;\n",
              "    }\n",
              "\n",
              "    .dataframe tbody tr th {\n",
              "        vertical-align: top;\n",
              "    }\n",
              "\n",
              "    .dataframe thead th {\n",
              "        text-align: right;\n",
              "    }\n",
              "</style>\n",
              "<table border=\"1\" class=\"dataframe\">\n",
              "  <thead>\n",
              "    <tr style=\"text-align: right;\">\n",
              "      <th></th>\n",
              "      <th>count</th>\n",
              "    </tr>\n",
              "    <tr>\n",
              "      <th>pickup_zone</th>\n",
              "      <th></th>\n",
              "    </tr>\n",
              "  </thead>\n",
              "  <tbody>\n",
              "    <tr>\n",
              "      <th>Fort Greene</th>\n",
              "      <td>39</td>\n",
              "    </tr>\n",
              "    <tr>\n",
              "      <th>Downtown Brooklyn/MetroTech</th>\n",
              "      <td>37</td>\n",
              "    </tr>\n",
              "    <tr>\n",
              "      <th>Brooklyn Heights</th>\n",
              "      <td>34</td>\n",
              "    </tr>\n",
              "    <tr>\n",
              "      <th>Park Slope</th>\n",
              "      <td>22</td>\n",
              "    </tr>\n",
              "    <tr>\n",
              "      <th>Boerum Hill</th>\n",
              "      <td>20</td>\n",
              "    </tr>\n",
              "    <tr>\n",
              "      <th>Williamsburg (North Side)</th>\n",
              "      <td>15</td>\n",
              "    </tr>\n",
              "    <tr>\n",
              "      <th>DUMBO/Vinegar Hill</th>\n",
              "      <td>15</td>\n",
              "    </tr>\n",
              "    <tr>\n",
              "      <th>Crown Heights North</th>\n",
              "      <td>12</td>\n",
              "    </tr>\n",
              "    <tr>\n",
              "      <th>Williamsburg (South Side)</th>\n",
              "      <td>11</td>\n",
              "    </tr>\n",
              "    <tr>\n",
              "      <th>Cobble Hill</th>\n",
              "      <td>11</td>\n",
              "    </tr>\n",
              "    <tr>\n",
              "      <th>Greenpoint</th>\n",
              "      <td>9</td>\n",
              "    </tr>\n",
              "    <tr>\n",
              "      <th>East New York</th>\n",
              "      <td>9</td>\n",
              "    </tr>\n",
              "    <tr>\n",
              "      <th>Bushwick South</th>\n",
              "      <td>9</td>\n",
              "    </tr>\n",
              "    <tr>\n",
              "      <th>Sheepshead Bay</th>\n",
              "      <td>8</td>\n",
              "    </tr>\n",
              "    <tr>\n",
              "      <th>Stuyvesant Heights</th>\n",
              "      <td>8</td>\n",
              "    </tr>\n",
              "    <tr>\n",
              "      <th>East Flatbush/Farragut</th>\n",
              "      <td>7</td>\n",
              "    </tr>\n",
              "    <tr>\n",
              "      <th>Clinton Hill</th>\n",
              "      <td>7</td>\n",
              "    </tr>\n",
              "    <tr>\n",
              "      <th>Carroll Gardens</th>\n",
              "      <td>7</td>\n",
              "    </tr>\n",
              "    <tr>\n",
              "      <th>Midwood</th>\n",
              "      <td>6</td>\n",
              "    </tr>\n",
              "    <tr>\n",
              "      <th>Starrett City</th>\n",
              "      <td>6</td>\n",
              "    </tr>\n",
              "    <tr>\n",
              "      <th>Coney Island</th>\n",
              "      <td>6</td>\n",
              "    </tr>\n",
              "    <tr>\n",
              "      <th>East Flatbush/Remsen Village</th>\n",
              "      <td>6</td>\n",
              "    </tr>\n",
              "    <tr>\n",
              "      <th>Bushwick North</th>\n",
              "      <td>5</td>\n",
              "    </tr>\n",
              "    <tr>\n",
              "      <th>East Williamsburg</th>\n",
              "      <td>5</td>\n",
              "    </tr>\n",
              "    <tr>\n",
              "      <th>Flatbush/Ditmas Park</th>\n",
              "      <td>4</td>\n",
              "    </tr>\n",
              "    <tr>\n",
              "      <th>Prospect-Lefferts Gardens</th>\n",
              "      <td>4</td>\n",
              "    </tr>\n",
              "    <tr>\n",
              "      <th>Brownsville</th>\n",
              "      <td>4</td>\n",
              "    </tr>\n",
              "    <tr>\n",
              "      <th>Flatlands</th>\n",
              "      <td>4</td>\n",
              "    </tr>\n",
              "    <tr>\n",
              "      <th>Gravesend</th>\n",
              "      <td>4</td>\n",
              "    </tr>\n",
              "    <tr>\n",
              "      <th>Erasmus</th>\n",
              "      <td>4</td>\n",
              "    </tr>\n",
              "    <tr>\n",
              "      <th>Bay Ridge</th>\n",
              "      <td>3</td>\n",
              "    </tr>\n",
              "    <tr>\n",
              "      <th>Prospect Heights</th>\n",
              "      <td>3</td>\n",
              "    </tr>\n",
              "    <tr>\n",
              "      <th>Bedford</th>\n",
              "      <td>3</td>\n",
              "    </tr>\n",
              "    <tr>\n",
              "      <th>Marine Park/Mill Basin</th>\n",
              "      <td>3</td>\n",
              "    </tr>\n",
              "    <tr>\n",
              "      <th>Windsor Terrace</th>\n",
              "      <td>3</td>\n",
              "    </tr>\n",
              "    <tr>\n",
              "      <th>Crown Heights South</th>\n",
              "      <td>3</td>\n",
              "    </tr>\n",
              "    <tr>\n",
              "      <th>Canarsie</th>\n",
              "      <td>3</td>\n",
              "    </tr>\n",
              "    <tr>\n",
              "      <th>Sunset Park West</th>\n",
              "      <td>3</td>\n",
              "    </tr>\n",
              "    <tr>\n",
              "      <th>Gowanus</th>\n",
              "      <td>2</td>\n",
              "    </tr>\n",
              "    <tr>\n",
              "      <th>South Williamsburg</th>\n",
              "      <td>2</td>\n",
              "    </tr>\n",
              "    <tr>\n",
              "      <th>Borough Park</th>\n",
              "      <td>2</td>\n",
              "    </tr>\n",
              "    <tr>\n",
              "      <th>Prospect Park</th>\n",
              "      <td>2</td>\n",
              "    </tr>\n",
              "    <tr>\n",
              "      <th>Madison</th>\n",
              "      <td>2</td>\n",
              "    </tr>\n",
              "    <tr>\n",
              "      <th>Bensonhurst East</th>\n",
              "      <td>1</td>\n",
              "    </tr>\n",
              "    <tr>\n",
              "      <th>Brighton Beach</th>\n",
              "      <td>1</td>\n",
              "    </tr>\n",
              "    <tr>\n",
              "      <th>Homecrest</th>\n",
              "      <td>1</td>\n",
              "    </tr>\n",
              "    <tr>\n",
              "      <th>Dyker Heights</th>\n",
              "      <td>1</td>\n",
              "    </tr>\n",
              "    <tr>\n",
              "      <th>Columbia Street</th>\n",
              "      <td>1</td>\n",
              "    </tr>\n",
              "    <tr>\n",
              "      <th>Bensonhurst West</th>\n",
              "      <td>1</td>\n",
              "    </tr>\n",
              "  </tbody>\n",
              "</table>\n",
              "</div><br><label><b>dtype:</b> int64</label>"
            ]
          },
          "metadata": {},
          "execution_count": 33
        }
      ],
      "source": [
        "# Outputting pickup value counts in pickup borough Brooklyn\n",
        "df_bk['pickup_zone'].value_counts()"
      ]
    },
    {
      "cell_type": "code",
      "execution_count": 34,
      "id": "82f90a84-23b4-498b-ab4b-e8ca8bdedb03",
      "metadata": {
        "id": "82f90a84-23b4-498b-ab4b-e8ca8bdedb03",
        "colab": {
          "base_uri": "https://localhost:8080/",
          "height": 272
        },
        "outputId": "805d77f9-36cc-4f47-8328-6cdf7a7c3dfe"
      },
      "outputs": [
        {
          "output_type": "execute_result",
          "data": {
            "text/plain": [
              "pickup_zone\n",
              "Fort Greene                    39\n",
              "Downtown Brooklyn/MetroTech    37\n",
              "Brooklyn Heights               34\n",
              "Park Slope                     22\n",
              "Boerum Hill                    20\n",
              "Name: count, dtype: int64"
            ],
            "text/html": [
              "<div>\n",
              "<style scoped>\n",
              "    .dataframe tbody tr th:only-of-type {\n",
              "        vertical-align: middle;\n",
              "    }\n",
              "\n",
              "    .dataframe tbody tr th {\n",
              "        vertical-align: top;\n",
              "    }\n",
              "\n",
              "    .dataframe thead th {\n",
              "        text-align: right;\n",
              "    }\n",
              "</style>\n",
              "<table border=\"1\" class=\"dataframe\">\n",
              "  <thead>\n",
              "    <tr style=\"text-align: right;\">\n",
              "      <th></th>\n",
              "      <th>count</th>\n",
              "    </tr>\n",
              "    <tr>\n",
              "      <th>pickup_zone</th>\n",
              "      <th></th>\n",
              "    </tr>\n",
              "  </thead>\n",
              "  <tbody>\n",
              "    <tr>\n",
              "      <th>Fort Greene</th>\n",
              "      <td>39</td>\n",
              "    </tr>\n",
              "    <tr>\n",
              "      <th>Downtown Brooklyn/MetroTech</th>\n",
              "      <td>37</td>\n",
              "    </tr>\n",
              "    <tr>\n",
              "      <th>Brooklyn Heights</th>\n",
              "      <td>34</td>\n",
              "    </tr>\n",
              "    <tr>\n",
              "      <th>Park Slope</th>\n",
              "      <td>22</td>\n",
              "    </tr>\n",
              "    <tr>\n",
              "      <th>Boerum Hill</th>\n",
              "      <td>20</td>\n",
              "    </tr>\n",
              "  </tbody>\n",
              "</table>\n",
              "</div><br><label><b>dtype:</b> int64</label>"
            ]
          },
          "metadata": {},
          "execution_count": 34
        }
      ],
      "source": [
        "# Highest pickups in borough Brooklyn\n",
        "df_bk['pickup_zone'].value_counts().head()"
      ]
    },
    {
      "cell_type": "code",
      "execution_count": 35,
      "id": "513833c2-f4ef-4c3a-8865-aef4aeb172ea",
      "metadata": {
        "id": "513833c2-f4ef-4c3a-8865-aef4aeb172ea",
        "colab": {
          "base_uri": "https://localhost:8080/",
          "height": 272
        },
        "outputId": "e03fb399-8042-4c79-8ca2-1122b0df5dc1"
      },
      "outputs": [
        {
          "output_type": "execute_result",
          "data": {
            "text/plain": [
              "pickup_zone\n",
              "Midtown Center                  227\n",
              "Penn Station/Madison Sq West    209\n",
              "Clinton East                    208\n",
              "Upper East Side South           208\n",
              "Midtown East                    196\n",
              "Name: count, dtype: int64"
            ],
            "text/html": [
              "<div>\n",
              "<style scoped>\n",
              "    .dataframe tbody tr th:only-of-type {\n",
              "        vertical-align: middle;\n",
              "    }\n",
              "\n",
              "    .dataframe tbody tr th {\n",
              "        vertical-align: top;\n",
              "    }\n",
              "\n",
              "    .dataframe thead th {\n",
              "        text-align: right;\n",
              "    }\n",
              "</style>\n",
              "<table border=\"1\" class=\"dataframe\">\n",
              "  <thead>\n",
              "    <tr style=\"text-align: right;\">\n",
              "      <th></th>\n",
              "      <th>count</th>\n",
              "    </tr>\n",
              "    <tr>\n",
              "      <th>pickup_zone</th>\n",
              "      <th></th>\n",
              "    </tr>\n",
              "  </thead>\n",
              "  <tbody>\n",
              "    <tr>\n",
              "      <th>Midtown Center</th>\n",
              "      <td>227</td>\n",
              "    </tr>\n",
              "    <tr>\n",
              "      <th>Penn Station/Madison Sq West</th>\n",
              "      <td>209</td>\n",
              "    </tr>\n",
              "    <tr>\n",
              "      <th>Clinton East</th>\n",
              "      <td>208</td>\n",
              "    </tr>\n",
              "    <tr>\n",
              "      <th>Upper East Side South</th>\n",
              "      <td>208</td>\n",
              "    </tr>\n",
              "    <tr>\n",
              "      <th>Midtown East</th>\n",
              "      <td>196</td>\n",
              "    </tr>\n",
              "  </tbody>\n",
              "</table>\n",
              "</div><br><label><b>dtype:</b> int64</label>"
            ]
          },
          "metadata": {},
          "execution_count": 35
        }
      ],
      "source": [
        "# Creating a subset by pickups from zones above\n",
        "df['pickup_zone'].value_counts().head()"
      ]
    },
    {
      "cell_type": "code",
      "execution_count": 36,
      "id": "2044422f-e466-4df8-b9d7-ccb709641ae2",
      "metadata": {
        "id": "2044422f-e466-4df8-b9d7-ccb709641ae2",
        "colab": {
          "base_uri": "https://localhost:8080/"
        },
        "outputId": "610d2267-63a6-4539-dfb3-c29dc7baacdd"
      },
      "outputs": [
        {
          "output_type": "execute_result",
          "data": {
            "text/plain": [
              "(5,)"
            ]
          },
          "metadata": {},
          "execution_count": 36
        }
      ],
      "source": [
        "#Checking for rows in subset and assigning a new variable to the dataset\n",
        "ds=df['pickup_zone'].value_counts().head()\n",
        "ds.shape"
      ]
    },
    {
      "cell_type": "code",
      "execution_count": 37,
      "id": "897b8fa2-395e-4a30-8160-57a8189a8394",
      "metadata": {
        "id": "897b8fa2-395e-4a30-8160-57a8189a8394",
        "colab": {
          "base_uri": "https://localhost:8080/"
        },
        "outputId": "8ad2cfb8-f729-4514-8fcd-bae14dfff8b0"
      },
      "outputs": [
        {
          "output_type": "execute_result",
          "data": {
            "text/plain": [
              "5"
            ]
          },
          "metadata": {},
          "execution_count": 37
        }
      ],
      "source": [
        "# How many coloumns in subset\n",
        "ds.shape[0]"
      ]
    },
    {
      "cell_type": "code",
      "execution_count": 38,
      "id": "889a8d65-244c-490f-a6ca-0a97a4b6c477",
      "metadata": {
        "id": "889a8d65-244c-490f-a6ca-0a97a4b6c477",
        "colab": {
          "base_uri": "https://localhost:8080/",
          "height": 467
        },
        "outputId": "fb689a11-60dc-409d-dbe7-1ca25470179b"
      },
      "outputs": [
        {
          "output_type": "execute_result",
          "data": {
            "text/plain": [
              "<Axes: xlabel='pickup_zone', ylabel='count'>"
            ]
          },
          "metadata": {},
          "execution_count": 38
        },
        {
          "output_type": "display_data",
          "data": {
            "text/plain": [
              "<Figure size 640x480 with 1 Axes>"
            ],
            "image/png": "[encoded data removed]"
          },
          "metadata": {}
        }
      ],
      "source": [
        "# Visualize showing top_5 pickup zones in pickup borough Brooklyn\n",
        "sns.countplot(x='pickup_zone',data=df,order=ds.index)"
      ]
    },
    {
      "cell_type": "markdown",
      "source": [
        "From the above observation we reliased the pickup zone in the various 5 towns have a significant counts."
      ],
      "metadata": {
        "id": "tik1djndD3S5"
      },
      "id": "tik1djndD3S5"
    },
    {
      "cell_type": "code",
      "execution_count": 39,
      "id": "fa468c2a-5f16-474f-95e7-4a76e9ec5466",
      "metadata": {
        "id": "fa468c2a-5f16-474f-95e7-4a76e9ec5466",
        "colab": {
          "base_uri": "https://localhost:8080/",
          "height": 559
        },
        "outputId": "d21ae66b-45e9-4d91-9ba8-bb1b36941896"
      },
      "outputs": [
        {
          "output_type": "execute_result",
          "data": {
            "text/plain": [
              "<Axes: xlabel='pickup_zone', ylabel='total'>"
            ]
          },
          "metadata": {},
          "execution_count": 39
        },
        {
          "output_type": "display_data",
          "data": {
            "text/plain": [
              "<Figure size 1000x600 with 1 Axes>"
            ],
            "image/png": "[encoded data removed]"
          },
          "metadata": {}
        }
      ],
      "source": [
        "# Barplot visualization the total average cost of each of the top-5 pickup zones in pick borough Brooklyn\n",
        "plt.figure(figsize=(10,6))\n",
        "sns.barplot(x='pickup_zone',y='total',data=df,order=ds.index)"
      ]
    }
  ],
  "metadata": {
    "colab": {
      "provenance": []
    },
    "kernelspec": {
      "display_name": "Python 3 (ipykernel)",
      "language": "python",
      "name": "python3"
    },
    "language_info": {
      "codemirror_mode": {
        "name": "ipython",
        "version": 3
      },
      "file_extension": ".py",
      "mimetype": "text/x-python",
      "name": "python",
      "nbconvert_exporter": "python",
      "pygments_lexer": "ipython3",
      "version": "3.11.7"
    }
  },
  "nbformat": 4,
  "nbformat_minor": 5
}